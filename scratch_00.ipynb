{
 "cells": [
  {
   "cell_type": "code",
   "execution_count": 1,
   "metadata": {},
   "outputs": [],
   "source": [
    "import numpy as np\n",
    "import cv2\n",
    "from collections import deque"
   ]
  },
  {
   "cell_type": "code",
   "execution_count": 2,
   "metadata": {},
   "outputs": [],
   "source": [
    "# Define the upper and lower boundaries for a color to be considered \"Blue\"\n",
    "blueLower = np.array([100, 60, 60])\n",
    "blueUpper = np.array([140, 255, 255])\n",
    "\n",
    "# Define a 5x5 kernel for erosion and dilation\n",
    "kernel = np.ones((5, 5), np.uint8)"
   ]
  },
  {
   "cell_type": "code",
   "execution_count": 10,
   "metadata": {},
   "outputs": [],
   "source": [
    "# initialize deques\n",
    "bPoints = [deque(maxlen=512)]\n",
    "gPoints = [deque(maxlen=512)]\n",
    "rPoints = [deque(maxlen=512)]\n",
    "yPoints = [deque(maxlen=512)]\n",
    "\n",
    "bPoints = 0\n",
    "gPoints = 0\n",
    "rPoints = 0\n",
    "yPoints = 0"
   ]
  },
  {
   "cell_type": "code",
   "execution_count": 11,
   "metadata": {},
   "outputs": [],
   "source": [
    "# An array and an index variable to get the color-of-interest\n",
    "# B G R Y\n",
    "colors = [(255, 0, 0), (0, 255, 0), (0, 0, 255), (0, 255, 255)]\n",
    "colorIndex = 0"
   ]
  },
  {
   "cell_type": "code",
   "execution_count": 14,
   "metadata": {},
   "outputs": [],
   "source": [
    "# create a blank white image\n",
    "paintWindow = np.zeros((471, 636, 3)) + 255"
   ]
  },
  {
   "cell_type": "code",
   "execution_count": 17,
   "metadata": {},
   "outputs": [],
   "source": [
    "# draw rectangular buttons on the white image\n",
    "paintWindow = cv2.rectangle(paintWindow,\n",
    "                            pt1=(40, 1), pt2=(140, 65), color=(0,0,0),\n",
    "                            thickness=2)\n",
    "paintWindow = cv2.rectangle(paintWindow,\n",
    "                            pt1=(160, 1), pt2=(255, 65), color=colors[0],\n",
    "                            thickness=-1)\n",
    "paintWindow = cv2.rectangle(paintWindow,\n",
    "                            pt1=(275, 1), pt2=(370, 65), color=colors[1],\n",
    "                            thickness=-1)\n",
    "paintWindow = cv2.rectangle(paintWindow,\n",
    "                            pt1=(390, 1), pt2=(485, 65), color=colors[2],\n",
    "                            thickness=-1)\n",
    "paintWindow = cv2.rectangle(paintWindow,\n",
    "                            pt1=(505, 1), pt2=(600, 65), color=colors[3],\n",
    "                            thickness=-1)"
   ]
  },
  {
   "cell_type": "code",
   "execution_count": null,
   "metadata": {},
   "outputs": [],
   "source": [
    "# Label the rectangular boxes drawn on the image\n",
    "cv2.putText(paintWindow, \"CLEAR\", org=(49, 33),\n",
    "            fontFace=cv2.FONT_HERSHEY_SCRIPT_SIMPLEX,fontScale=0.5,\n",
    "           color=(0,0,0), thickness=2, lineType=cv2.LINE_AA)\n",
    "cv2.putText(paintWindow, \"BLUE\", org=(1, 33),\n",
    "            fontFace=cv2.FONT_HERSHEY_SCRIPT_SIMPLEX,fontScale=0.5,\n",
    "           color=(255,255,255), thickness=2, lineType=cv2.LINE_AA)\n",
    "cv2.putText(paintWindow, \"CLEAR\", org=(298, 33),\n",
    "            fontFace=cv2.FONT_HERSHEY_SCRIPT_SIMPLEX,fontScale=0.5,\n",
    "           color=(255,255,255), thickness=2, lineType=cv2.LINE_AA)\n",
    "cv2.putText(paintWindow, \"CLEAR\", org=(420, 33),\n",
    "            fontFace=cv2.FONT_HERSHEY_SCRIPT_SIMPLEX,fontScale=0.5,\n",
    "           color=(255,255,255), thickness=2, lineType=cv2.LINE_AA)\n",
    "cv2.putText(paintWindow, \"YELLOW\", org=(520, 33),\n",
    "            fontFace=cv2.FONT_HERSHEY_SCRIPT_SIMPLEX,fontScale=0.5,\n",
    "           color=(15,15,15), thickness=2, lineType=cv2.LINE_AA)"
   ]
  }
 ],
 "metadata": {
  "kernelspec": {
   "display_name": "Python 3",
   "language": "python",
   "name": "python3"
  },
  "language_info": {
   "codemirror_mode": {
    "name": "ipython",
    "version": 3
   },
   "file_extension": ".py",
   "mimetype": "text/x-python",
   "name": "python",
   "nbconvert_exporter": "python",
   "pygments_lexer": "ipython3",
   "version": "3.6.6"
  }
 },
 "nbformat": 4,
 "nbformat_minor": 2
}
