{
 "cells": [
  {
   "cell_type": "markdown",
   "metadata": {},
   "source": [
    "### Import Packages"
   ]
  },
  {
   "cell_type": "code",
   "execution_count": 1,
   "metadata": {},
   "outputs": [],
   "source": [
    "import os\n",
    "import sys\n",
    "import gzip\n",
    "import random"
   ]
  },
  {
   "cell_type": "code",
   "execution_count": 2,
   "metadata": {},
   "outputs": [],
   "source": [
    "import numpy as np\n",
    "import pickle\n",
    "import matplotlib.pyplot as plt\n",
    "%matplotlib inline"
   ]
  },
  {
   "cell_type": "code",
   "execution_count": 3,
   "metadata": {},
   "outputs": [
    {
     "name": "stderr",
     "output_type": "stream",
     "text": [
      "Using TensorFlow backend.\n"
     ]
    }
   ],
   "source": [
    "import keras\n",
    "\n",
    "from keras import backend as K\n",
    "from keras.preprocessing.image import ImageDataGenerator\n",
    "from keras.preprocessing import image\n",
    "\n",
    "from keras.utils.np_utils import to_categorical\n",
    "\n",
    "from keras.callbacks import EarlyStopping"
   ]
  },
  {
   "cell_type": "code",
   "execution_count": 4,
   "metadata": {},
   "outputs": [],
   "source": [
    "from keras.models import Sequential, model_from_json\n",
    "\n",
    "#from keras.layers import Dense, Dropout, Lambda, Flatten\n",
    "from keras.layers import Convolution2D, MaxPooling2D\n",
    "from keras.layers.normalization import BatchNormalization\n",
    "\n",
    "from keras.optimizers import Adam, RMSprop\n",
    "\n",
    "from keras.layers.core import Lambda, Dense, Flatten, Dropout"
   ]
  },
  {
   "cell_type": "code",
   "execution_count": 33,
   "metadata": {},
   "outputs": [],
   "source": [
    "from keras.models import load_model"
   ]
  },
  {
   "cell_type": "code",
   "execution_count": 5,
   "metadata": {},
   "outputs": [],
   "source": [
    "from sklearn.model_selection import train_test_split"
   ]
  },
  {
   "cell_type": "code",
   "execution_count": 6,
   "metadata": {},
   "outputs": [],
   "source": [
    "from subprocess import check_output"
   ]
  },
  {
   "cell_type": "markdown",
   "metadata": {},
   "source": [
    "### Extracting the data"
   ]
  },
  {
   "cell_type": "code",
   "execution_count": 7,
   "metadata": {},
   "outputs": [],
   "source": [
    "f = gzip.open('datasets/mnist/mnist.pkl.gz')\n",
    "data = pickle.load(f, encoding='bytes')\n",
    "f.close()"
   ]
  },
  {
   "cell_type": "code",
   "execution_count": 8,
   "metadata": {},
   "outputs": [],
   "source": [
    "(x_train, y_train), (x_test, y_test) = data"
   ]
  },
  {
   "cell_type": "code",
   "execution_count": 9,
   "metadata": {},
   "outputs": [
    {
     "data": {
      "text/plain": [
       "(60000, 28, 28)"
      ]
     },
     "execution_count": 9,
     "metadata": {},
     "output_type": "execute_result"
    }
   ],
   "source": [
    "x_train.shape"
   ]
  },
  {
   "cell_type": "markdown",
   "metadata": {},
   "source": [
    "### Data Visualization"
   ]
  },
  {
   "cell_type": "code",
   "execution_count": 10,
   "metadata": {},
   "outputs": [
    {
     "data": {
      "image/png": "[encoded data removed]",
      "text/plain": [
       "<Figure size 432x288 with 3 Axes>"
      ]
     },
     "metadata": {},
     "output_type": "display_data"
    }
   ],
   "source": [
    "for i in range(6, 9):\n",
    "    \n",
    "    rand_i = random.randint(0, x_train.shape[0])\n",
    "    \n",
    "    plt.subplot(331+i)\n",
    "    plt.imshow(x_train[rand_i], cmap=plt.get_cmap('gray'))\n",
    "    plt.title(y_train[rand_i])    "
   ]
  },
  {
   "cell_type": "markdown",
   "metadata": {},
   "source": [
    "### Preprocessing"
   ]
  },
  {
   "cell_type": "code",
   "execution_count": 11,
   "metadata": {},
   "outputs": [
    {
     "name": "stdout",
     "output_type": "stream",
     "text": [
      "train shape: (60000, 28, 28, 1)\n",
      "test shape: (10000, 28, 28, 1)\n"
     ]
    }
   ],
   "source": [
    "# shape of data\n",
    "x_train = x_train.reshape((x_train.shape[0], x_train.shape[1] ,x_train.shape[2], 1))\n",
    "x_test = x_test.reshape((x_test.shape[0], x_test.shape[1] ,x_test.shape[2], 1))\n",
    "\n",
    "print('train shape:',x_train.shape)\n",
    "print('test shape:',x_test.shape)"
   ]
  },
  {
   "cell_type": "code",
   "execution_count": 12,
   "metadata": {},
   "outputs": [],
   "source": [
    "## standardizing the digit images\n",
    "mean_px = x_train.mean().astype(np.float32)\n",
    "std_px = x_train.std().astype(np.float32)"
   ]
  },
  {
   "cell_type": "code",
   "execution_count": 13,
   "metadata": {},
   "outputs": [
    {
     "data": {
      "text/plain": [
       "33.31842"
      ]
     },
     "execution_count": 13,
     "metadata": {},
     "output_type": "execute_result"
    }
   ],
   "source": [
    "mean_px"
   ]
  },
  {
   "cell_type": "code",
   "execution_count": 14,
   "metadata": {},
   "outputs": [
    {
     "data": {
      "text/plain": [
       "78.56749"
      ]
     },
     "execution_count": 14,
     "metadata": {},
     "output_type": "execute_result"
    }
   ],
   "source": [
    "std_px"
   ]
  },
  {
   "cell_type": "code",
   "execution_count": 15,
   "metadata": {},
   "outputs": [],
   "source": [
    "def standardize(data):    \n",
    "    return (data - 33.31842)/(78.56749)"
   ]
  },
  {
   "cell_type": "code",
   "execution_count": 16,
   "metadata": {},
   "outputs": [],
   "source": [
    "# one hot encoding\n",
    "y_train_cat = to_categorical(y_train)\n",
    "y_test_cat = to_categorical(y_test)"
   ]
  },
  {
   "cell_type": "code",
   "execution_count": 17,
   "metadata": {},
   "outputs": [
    {
     "name": "stdout",
     "output_type": "stream",
     "text": [
      "(60000, 10)\n",
      "(10000, 10)\n"
     ]
    }
   ],
   "source": [
    "print(y_train_cat.shape)\n",
    "print(y_test_cat.shape)\n"
   ]
  },
  {
   "cell_type": "code",
   "execution_count": 18,
   "metadata": {},
   "outputs": [],
   "source": [
    "# IMAGE GENERATOR\n",
    "gen = image.ImageDataGenerator(rotation_range=8,\n",
    "                               width_shift_range=0.08,\n",
    "                               shear_range=0.3,\n",
    "                               height_shift_range=0.08,\n",
    "                               zoom_range=0.08)"
   ]
  },
  {
   "cell_type": "code",
   "execution_count": 19,
   "metadata": {},
   "outputs": [],
   "source": [
    "batches = gen.flow(x_train, y_train_cat, batch_size=64)\n",
    "val_batches = gen.flow(x_test, y_test_cat, batch_size=64)"
   ]
  },
  {
   "cell_type": "code",
   "execution_count": 20,
   "metadata": {},
   "outputs": [],
   "source": [
    "# fixing random seem\n",
    "seed = 7\n",
    "np.random.seed(seed)"
   ]
  },
  {
   "cell_type": "markdown",
   "metadata": {},
   "source": [
    "### plot function"
   ]
  },
  {
   "cell_type": "code",
   "execution_count": 21,
   "metadata": {},
   "outputs": [],
   "source": [
    "def plot_history(history_dict):\n",
    "    n_epochs = range(1, len(history_dict['loss']) + 1)\n",
    "    fig, ax1 = plt.subplots(figsize=(12,6))\n",
    "\n",
    "    ax1.set_xlabel('Epochs')\n",
    "\n",
    "    # loss plot\n",
    "    ax1.plot(n_epochs, history_dict['loss'], color=(0.8,0,0))\n",
    "    ax1.plot(n_epochs, history_dict['val_loss'], color=(0.5, 0, 0))\n",
    "\n",
    "    # loss scale\n",
    "    ax1.set_ylabel('Loss', color='r')\n",
    "    ax1.tick_params('y', colors='r')\n",
    "\n",
    "    ax2 = ax1.twinx()\n",
    "\n",
    "    # acc plot\n",
    "    ax2.plot(n_epochs, history_dict['acc'], color=(0,0.8,0))\n",
    "    ax2.plot(n_epochs, history_dict['val_acc'], color=(0,0.5,0))\n",
    "\n",
    "    # acc scale\n",
    "    ax2.set_ylabel('Accuracy', color='g')\n",
    "    ax2.tick_params('y', colors='g')\n",
    "\n",
    "    fig.legend(['loss', 'val_loss', 'acc', 'val_acc'], loc='center left', bbox_to_anchor=(1, 0.5))\n",
    "    fig.tight_layout()\n",
    "    plt.show()"
   ]
  },
  {
   "cell_type": "markdown",
   "metadata": {},
   "source": [
    "# Creating Neural Network Architecture"
   ]
  },
  {
   "cell_type": "markdown",
   "metadata": {},
   "source": [
    "## Simple linear Model"
   ]
  },
  {
   "cell_type": "code",
   "execution_count": 29,
   "metadata": {},
   "outputs": [],
   "source": [
    "# simple model\n",
    "def simple_model():\n",
    "    \n",
    "    model = Sequential()\n",
    "    model.add(Lambda(standardize, input_shape=(28,28,1)))\n",
    "    model.add(Flatten())\n",
    "    model.add(Dense(10, activation='softmax'))\n",
    "    \n",
    "    \n",
    "    model.compile(optimizer=RMSprop(lr=0.001),\n",
    "                 loss='categorical_crossentropy',\n",
    "                 metrics=['accuracy'])\n",
    "    return model"
   ]
  },
  {
   "cell_type": "code",
   "execution_count": 30,
   "metadata": {},
   "outputs": [],
   "source": [
    "model = simple_model()"
   ]
  },
  {
   "cell_type": "code",
   "execution_count": 31,
   "metadata": {},
   "outputs": [
    {
     "name": "stdout",
     "output_type": "stream",
     "text": [
      "Epoch 1/1\n",
      "60000/60000 [==============================] - 769s 13ms/step - loss: 0.7961 - acc: 0.7688 - val_loss: 0.7562 - val_acc: 0.7808\n"
     ]
    }
   ],
   "source": [
    "# training and saving\n",
    "history = model.fit_generator(generator=batches,\n",
    "                              steps_per_epoch=batches.n,\n",
    "                              epochs=1,\n",
    "                              validation_data=val_batches,\n",
    "                              validation_steps=val_batches.n)"
   ]
  },
  {
   "cell_type": "code",
   "execution_count": 24,
   "metadata": {},
   "outputs": [
    {
     "data": {
      "text/plain": [
       "{'val_loss': [0.7513739468830616, 0.7554196947483053, 0.7616631320055498],\n",
       " 'val_acc': [0.7829337369068851, 0.7818253748963854, 0.7830373514857702],\n",
       " 'loss': [0.7920987838064196, 0.7900687812632715, 0.7893276657502136],\n",
       " 'acc': [0.7700205734725186, 0.7714585799926628, 0.7716274200406884]}"
      ]
     },
     "execution_count": 24,
     "metadata": {},
     "output_type": "execute_result"
    }
   ],
   "source": [
    "# plotting results\n",
    "history_dict = history.history\n",
    "history_dict"
   ]
  },
  {
   "cell_type": "code",
   "execution_count": 25,
   "metadata": {},
   "outputs": [
    {
     "data": {
      "image/png": "[encoded data removed]",
      "text/plain": [
       "<Figure size 864x432 with 2 Axes>"
      ]
     },
     "metadata": {},
     "output_type": "display_data"
    }
   ],
   "source": [
    "plot_history(history_dict=history.history)"
   ]
  },
  {
   "cell_type": "markdown",
   "metadata": {},
   "source": [
    "## FC Model"
   ]
  },
  {
   "cell_type": "code",
   "execution_count": 26,
   "metadata": {},
   "outputs": [],
   "source": [
    "def fc_model():\n",
    "    model = Sequential([\n",
    "        Lambda(standardize, input_shape=(28,28,1)),\n",
    "        Flatten(),\n",
    "        Dense(512, activation='relu'),\n",
    "        Dense(10, activation='softmax')\n",
    "    ])\n",
    "    \n",
    "    model.compile(optimizer=\"Adam\", loss='categorical_crossentropy',\n",
    "                 metrics=['accuracy'])\n",
    "    return model"
   ]
  },
  {
   "cell_type": "code",
   "execution_count": 27,
   "metadata": {},
   "outputs": [],
   "source": [
    "model = fc_model()\n",
    "model.optimizer.lr=0.01"
   ]
  },
  {
   "cell_type": "code",
   "execution_count": 28,
   "metadata": {},
   "outputs": [
    {
     "name": "stdout",
     "output_type": "stream",
     "text": [
      "Epoch 1/3\n",
      "60000/60000 [==============================] - 730s 12ms/step - loss: 0.3586 - acc: 0.9161 - val_loss: 0.3393 - val_acc: 0.9257\n",
      "Epoch 2/3\n",
      "60000/60000 [==============================] - 732s 12ms/step - loss: 0.3611 - acc: 0.9184 - val_loss: 0.3103 - val_acc: 0.9295\n",
      "Epoch 3/3\n",
      "60000/60000 [==============================] - 755s 13ms/step - loss: 0.3643 - acc: 0.9172 - val_loss: 0.3408 - val_acc: 0.9251\n"
     ]
    }
   ],
   "source": [
    "history = model.fit_generator(generator=batches,\n",
    "                             steps_per_epoch=batches.n, epochs=3,\n",
    "                             validation_data=val_batches,\n",
    "                             validation_steps=val_batches.n)"
   ]
  },
  {
   "cell_type": "code",
   "execution_count": 29,
   "metadata": {},
   "outputs": [
    {
     "data": {
      "image/png": "[encoded data removed]",
      "text/plain": [
       "<Figure size 864x432 with 2 Axes>"
      ]
     },
     "metadata": {},
     "output_type": "display_data"
    }
   ],
   "source": [
    "plot_history(history.history)"
   ]
  },
  {
   "cell_type": "markdown",
   "metadata": {},
   "source": [
    "## CNN"
   ]
  },
  {
   "cell_type": "code",
   "execution_count": 30,
   "metadata": {},
   "outputs": [],
   "source": [
    "# cnn model architecture\n",
    "def cnn_model():\n",
    "    model = Sequential([\n",
    "        Lambda(standardize, input_shape=(28, 28, 1)),\n",
    "        Convolution2D(32, (3,3), activation='relu'),\n",
    "        Convolution2D(32, (3,3), activation='relu'),\n",
    "        MaxPooling2D(),\n",
    "        Convolution2D(64, (3,3), activation='relu'),\n",
    "        Convolution2D(64, (3,3), activation='relu'),\n",
    "        MaxPooling2D(),\n",
    "        Flatten(),\n",
    "        Dense(512, activation='relu'),\n",
    "        Dense(10, activation='softmax')\n",
    "    ])\n",
    "    \n",
    "    model.compile(Adam(), loss='categorical_crossentropy',\n",
    "                 metrics=['accuracy'])\n",
    "    \n",
    "    return model"
   ]
  },
  {
   "cell_type": "code",
   "execution_count": 31,
   "metadata": {},
   "outputs": [],
   "source": [
    "model=cnn_model()"
   ]
  },
  {
   "cell_type": "code",
   "execution_count": 32,
   "metadata": {},
   "outputs": [
    {
     "name": "stdout",
     "output_type": "stream",
     "text": [
      "Epoch 1/3\n",
      "60000/60000 [==============================] - 840s 14ms/step - loss: 0.0163 - acc: 0.9950 - val_loss: 0.0285 - val_acc: 0.9938\n",
      "Epoch 2/3\n",
      "60000/60000 [==============================] - 811s 14ms/step - loss: 0.0074 - acc: 0.9979 - val_loss: 0.0338 - val_acc: 0.9935\n",
      "Epoch 3/3\n",
      "60000/60000 [==============================] - 875s 15ms/step - loss: 0.0076 - acc: 0.9982 - val_loss: 0.0424 - val_acc: 0.9929\n"
     ]
    }
   ],
   "source": [
    "history = model.fit_generator(generator=batches,\n",
    "                              steps_per_epoch=batches.n,\n",
    "                              epochs=3,\n",
    "                              validation_data=val_batches,\n",
    "                              validation_steps=val_batches.n)"
   ]
  },
  {
   "cell_type": "code",
   "execution_count": 33,
   "metadata": {},
   "outputs": [
    {
     "data": {
      "image/png": "[encoded data removed]",
      "text/plain": [
       "<Figure size 864x432 with 2 Axes>"
      ]
     },
     "metadata": {},
     "output_type": "display_data"
    }
   ],
   "source": [
    "plot_history(history_dict=history.history)"
   ]
  },
  {
   "cell_type": "markdown",
   "metadata": {},
   "source": [
    "## CNN with BN"
   ]
  },
  {
   "cell_type": "code",
   "execution_count": 38,
   "metadata": {},
   "outputs": [],
   "source": [
    "def bn_model_01():\n",
    "    model = Sequential()\n",
    "    \n",
    "    model.add(Lambda(standardize, input_shape=(28, 28, 1)))\n",
    "    \n",
    "    model.add(Convolution2D(32, (3,3), activation='relu'))\n",
    "        \n",
    "    model.add(BatchNormalization())\n",
    "    model.add(Convolution2D(32, (3,3), activation='relu'))\n",
    "    model.add(MaxPooling2D())\n",
    "\n",
    "    model.add(BatchNormalization())\n",
    "    model.add(Convolution2D(64, (3,3), activation='relu'))\n",
    "\n",
    "    model.add(BatchNormalization())\n",
    "    model.add(Convolution2D(64, (3,3), activation='relu'))\n",
    "    model.add(MaxPooling2D())\n",
    "\n",
    "    model.add(Flatten())\n",
    "\n",
    "    model.add(BatchNormalization())\n",
    "    model.add(Dense(512, activation='relu'))\n",
    "\n",
    "    model.add(BatchNormalization())\n",
    "    model.add(Dense(10, activation='softmax'))\n",
    "\n",
    "    model.compile(Adam(lr=0.01), loss='categorical_crossentropy',\n",
    "              metrics=['accuracy'])\n",
    "    \n",
    "    return model"
   ]
  },
  {
   "cell_type": "code",
   "execution_count": 39,
   "metadata": {},
   "outputs": [],
   "source": [
    "model_bn = bn_model_01()"
   ]
  },
  {
   "cell_type": "code",
   "execution_count": 40,
   "metadata": {},
   "outputs": [
    {
     "name": "stdout",
     "output_type": "stream",
     "text": [
      "_________________________________________________________________\n",
      "Layer (type)                 Output Shape              Param #   \n",
      "=================================================================\n",
      "lambda_5 (Lambda)            (None, 28, 28, 1)         0         \n",
      "_________________________________________________________________\n",
      "conv2d_5 (Conv2D)            (None, 26, 26, 32)        320       \n",
      "_________________________________________________________________\n",
      "batch_normalization_6 (Batch (None, 26, 26, 32)        128       \n",
      "_________________________________________________________________\n",
      "conv2d_6 (Conv2D)            (None, 24, 24, 32)        9248      \n",
      "_________________________________________________________________\n",
      "max_pooling2d_3 (MaxPooling2 (None, 12, 12, 32)        0         \n",
      "_________________________________________________________________\n",
      "batch_normalization_7 (Batch (None, 12, 12, 32)        128       \n",
      "_________________________________________________________________\n",
      "conv2d_7 (Conv2D)            (None, 10, 10, 64)        18496     \n",
      "_________________________________________________________________\n",
      "batch_normalization_8 (Batch (None, 10, 10, 64)        256       \n",
      "_________________________________________________________________\n",
      "conv2d_8 (Conv2D)            (None, 8, 8, 64)          36928     \n",
      "_________________________________________________________________\n",
      "max_pooling2d_4 (MaxPooling2 (None, 4, 4, 64)          0         \n",
      "_________________________________________________________________\n",
      "flatten_5 (Flatten)          (None, 1024)              0         \n",
      "_________________________________________________________________\n",
      "batch_normalization_9 (Batch (None, 1024)              4096      \n",
      "_________________________________________________________________\n",
      "dense_6 (Dense)              (None, 512)               524800    \n",
      "_________________________________________________________________\n",
      "batch_normalization_10 (Batc (None, 512)               2048      \n",
      "_________________________________________________________________\n",
      "dense_7 (Dense)              (None, 10)                5130      \n",
      "=================================================================\n",
      "Total params: 601,578\n",
      "Trainable params: 598,250\n",
      "Non-trainable params: 3,328\n",
      "_________________________________________________________________\n"
     ]
    }
   ],
   "source": [
    "model_bn.summary()"
   ]
  },
  {
   "cell_type": "code",
   "execution_count": 42,
   "metadata": {},
   "outputs": [
    {
     "name": "stdout",
     "output_type": "stream",
     "text": [
      "Epoch 1/1\n",
      "60000/60000 [==============================] - 2167s 36ms/step - loss: 0.0155 - acc: 0.9969 - val_loss: 0.0515 - val_acc: 0.9936\n"
     ]
    }
   ],
   "source": [
    "history = model_bn.fit_generator(generator=batches,\n",
    "                              steps_per_epoch=batches.n,\n",
    "                              epochs=1,\n",
    "                              validation_data=val_batches,\n",
    "                              validation_steps=val_batches.n)"
   ]
  },
  {
   "cell_type": "code",
   "execution_count": 43,
   "metadata": {},
   "outputs": [],
   "source": [
    "#plot_history(history.history)"
   ]
  },
  {
   "cell_type": "code",
   "execution_count": 55,
   "metadata": {},
   "outputs": [],
   "source": [
    "model.save('bn_model_02.h5')"
   ]
  },
  {
   "cell_type": "code",
   "execution_count": 56,
   "metadata": {},
   "outputs": [],
   "source": [
    "new_model = load_model('bn_model_02.h5')"
   ]
  },
  {
   "cell_type": "code",
   "execution_count": 70,
   "metadata": {},
   "outputs": [
    {
     "data": {
      "text/plain": [
       "array([2], dtype=int64)"
      ]
     },
     "execution_count": 70,
     "metadata": {},
     "output_type": "execute_result"
    }
   ],
   "source": [
    "new_model.predict_classes(x_test[1].reshape(-1,28,28,1))"
   ]
  }
 ],
 "metadata": {
  "kernelspec": {
   "display_name": "Python 3",
   "language": "python",
   "name": "python3"
  },
  "language_info": {
   "codemirror_mode": {
    "name": "ipython",
    "version": 3
   },
   "file_extension": ".py",
   "mimetype": "text/x-python",
   "name": "python",
   "nbconvert_exporter": "python",
   "pygments_lexer": "ipython3",
   "version": "3.6.6"
  }
 },
 "nbformat": 4,
 "nbformat_minor": 2
}
